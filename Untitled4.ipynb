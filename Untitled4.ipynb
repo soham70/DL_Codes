{
 "cells": [
  {
   "cell_type": "code",
   "execution_count": 12,
   "id": "e2c3d960",
   "metadata": {},
   "outputs": [],
   "source": [
    "import tensorflow as tf\n",
    "from tensorflow import keras\n",
    "from keras.applications import VGG16\n",
    "from keras import Model,layers\n",
    "from keras.layers import Dense,Flatten\n",
    "from keras.preprocessing.image import ImageDataGenerator\n",
    "import numpy as np\n",
    "import pandas as pd"
   ]
  },
  {
   "cell_type": "code",
   "execution_count": 4,
   "id": "2e833512",
   "metadata": {},
   "outputs": [
    {
     "name": "stdout",
     "output_type": "stream",
     "text": [
      "Found 9144 images belonging to 102 classes.\n"
     ]
    }
   ],
   "source": [
    "dataset_dir='./Object Detection(Ass6)/caltech-101-img'\n",
    "\n",
    "dataset_datagen=ImageDataGenerator(\n",
    "    rescale=1.0/255\n",
    ")\n",
    "\n",
    "batch_size=2000\n",
    "\n",
    "dataset_generator=dataset_datagen.flow_from_directory(\n",
    "    dataset_dir,\n",
    "    target_size=(64,64),\n",
    "    batch_size=batch_size,\n",
    "    class_mode='categorical'\n",
    ")"
   ]
  },
  {
   "cell_type": "code",
   "execution_count": 5,
   "id": "1cbafa94",
   "metadata": {},
   "outputs": [
    {
     "name": "stdout",
     "output_type": "stream",
     "text": [
      "2000\n",
      "2000\n"
     ]
    }
   ],
   "source": [
    "x_train,y_train=dataset_generator[0]\n",
    "x_test,y_test=dataset_generator[1]\n",
    "\n",
    "print(len(x_train))\n",
    "print(len(x_test))"
   ]
  },
  {
   "cell_type": "code",
   "execution_count": 6,
   "id": "fb04731c",
   "metadata": {},
   "outputs": [],
   "source": [
    "base_model=VGG16(weights='imagenet',include_top=False,input_shape=(64,64,3))"
   ]
  },
  {
   "cell_type": "code",
   "execution_count": 7,
   "id": "c1f000a0",
   "metadata": {},
   "outputs": [],
   "source": [
    "for layer in base_model.layers:\n",
    "    layer.trainable=False"
   ]
  },
  {
   "cell_type": "code",
   "execution_count": 10,
   "id": "990bf015",
   "metadata": {},
   "outputs": [
    {
     "name": "stdout",
     "output_type": "stream",
     "text": [
      "Model: \"vgg16\"\n",
      "_________________________________________________________________\n",
      " Layer (type)                Output Shape              Param #   \n",
      "=================================================================\n",
      " input_1 (InputLayer)        [(None, 64, 64, 3)]       0         \n",
      "                                                                 \n",
      " block1_conv1 (Conv2D)       (None, 64, 64, 64)        1792      \n",
      "                                                                 \n",
      " block1_conv2 (Conv2D)       (None, 64, 64, 64)        36928     \n",
      "                                                                 \n",
      " block1_pool (MaxPooling2D)  (None, 32, 32, 64)        0         \n",
      "                                                                 \n",
      " block2_conv1 (Conv2D)       (None, 32, 32, 128)       73856     \n",
      "                                                                 \n",
      " block2_conv2 (Conv2D)       (None, 32, 32, 128)       147584    \n",
      "                                                                 \n",
      " block2_pool (MaxPooling2D)  (None, 16, 16, 128)       0         \n",
      "                                                                 \n",
      " block3_conv1 (Conv2D)       (None, 16, 16, 256)       295168    \n",
      "                                                                 \n",
      " block3_conv2 (Conv2D)       (None, 16, 16, 256)       590080    \n",
      "                                                                 \n",
      " block3_conv3 (Conv2D)       (None, 16, 16, 256)       590080    \n",
      "                                                                 \n",
      " block3_pool (MaxPooling2D)  (None, 8, 8, 256)         0         \n",
      "                                                                 \n",
      " block4_conv1 (Conv2D)       (None, 8, 8, 512)         1180160   \n",
      "                                                                 \n",
      " block4_conv2 (Conv2D)       (None, 8, 8, 512)         2359808   \n",
      "                                                                 \n",
      " block4_conv3 (Conv2D)       (None, 8, 8, 512)         2359808   \n",
      "                                                                 \n",
      " block4_pool (MaxPooling2D)  (None, 4, 4, 512)         0         \n",
      "                                                                 \n",
      " block5_conv1 (Conv2D)       (None, 4, 4, 512)         2359808   \n",
      "                                                                 \n",
      " block5_conv2 (Conv2D)       (None, 4, 4, 512)         2359808   \n",
      "                                                                 \n",
      " block5_conv3 (Conv2D)       (None, 4, 4, 512)         2359808   \n",
      "                                                                 \n",
      " block5_pool (MaxPooling2D)  (None, 2, 2, 512)         0         \n",
      "                                                                 \n",
      "=================================================================\n",
      "Total params: 14714688 (56.13 MB)\n",
      "Trainable params: 0 (0.00 Byte)\n",
      "Non-trainable params: 14714688 (56.13 MB)\n",
      "_________________________________________________________________\n"
     ]
    }
   ],
   "source": [
    "base_model.summary()"
   ]
  },
  {
   "cell_type": "code",
   "execution_count": 14,
   "id": "56245633",
   "metadata": {},
   "outputs": [],
   "source": [
    "x=Flatten()(base_model.output)\n",
    "x=Dense(64,activation='relu')(x)\n",
    "predictions=Dense(102,activation='softmax')(x)\n",
    "\n",
    "model=Model(inputs=base_model.input,outputs=predictions)\n",
    "model.compile(optimizer='Adam',loss='categorical_crossentropy',metrics=['accuracy'])"
   ]
  },
  {
   "cell_type": "code",
   "execution_count": null,
   "id": "d33f1479",
   "metadata": {},
   "outputs": [],
   "source": []
  },
  {
   "cell_type": "code",
   "execution_count": 15,
   "id": "da39eb30",
   "metadata": {},
   "outputs": [
    {
     "name": "stdout",
     "output_type": "stream",
     "text": [
      "Model: \"model\"\n",
      "_________________________________________________________________\n",
      " Layer (type)                Output Shape              Param #   \n",
      "=================================================================\n",
      " input_1 (InputLayer)        [(None, 64, 64, 3)]       0         \n",
      "                                                                 \n",
      " block1_conv1 (Conv2D)       (None, 64, 64, 64)        1792      \n",
      "                                                                 \n",
      " block1_conv2 (Conv2D)       (None, 64, 64, 64)        36928     \n",
      "                                                                 \n",
      " block1_pool (MaxPooling2D)  (None, 32, 32, 64)        0         \n",
      "                                                                 \n",
      " block2_conv1 (Conv2D)       (None, 32, 32, 128)       73856     \n",
      "                                                                 \n",
      " block2_conv2 (Conv2D)       (None, 32, 32, 128)       147584    \n",
      "                                                                 \n",
      " block2_pool (MaxPooling2D)  (None, 16, 16, 128)       0         \n",
      "                                                                 \n",
      " block3_conv1 (Conv2D)       (None, 16, 16, 256)       295168    \n",
      "                                                                 \n",
      " block3_conv2 (Conv2D)       (None, 16, 16, 256)       590080    \n",
      "                                                                 \n",
      " block3_conv3 (Conv2D)       (None, 16, 16, 256)       590080    \n",
      "                                                                 \n",
      " block3_pool (MaxPooling2D)  (None, 8, 8, 256)         0         \n",
      "                                                                 \n",
      " block4_conv1 (Conv2D)       (None, 8, 8, 512)         1180160   \n",
      "                                                                 \n",
      " block4_conv2 (Conv2D)       (None, 8, 8, 512)         2359808   \n",
      "                                                                 \n",
      " block4_conv3 (Conv2D)       (None, 8, 8, 512)         2359808   \n",
      "                                                                 \n",
      " block4_pool (MaxPooling2D)  (None, 4, 4, 512)         0         \n",
      "                                                                 \n",
      " block5_conv1 (Conv2D)       (None, 4, 4, 512)         2359808   \n",
      "                                                                 \n",
      " block5_conv2 (Conv2D)       (None, 4, 4, 512)         2359808   \n",
      "                                                                 \n",
      " block5_conv3 (Conv2D)       (None, 4, 4, 512)         2359808   \n",
      "                                                                 \n",
      " block5_pool (MaxPooling2D)  (None, 2, 2, 512)         0         \n",
      "                                                                 \n",
      " flatten_2 (Flatten)         (None, 2048)              0         \n",
      "                                                                 \n",
      " dense_4 (Dense)             (None, 64)                131136    \n",
      "                                                                 \n",
      " dense_5 (Dense)             (None, 102)               6630      \n",
      "                                                                 \n",
      "=================================================================\n",
      "Total params: 14852454 (56.66 MB)\n",
      "Trainable params: 137766 (538.15 KB)\n",
      "Non-trainable params: 14714688 (56.13 MB)\n",
      "_________________________________________________________________\n"
     ]
    }
   ],
   "source": [
    "model.summary()"
   ]
  },
  {
   "cell_type": "code",
   "execution_count": 16,
   "id": "38a888cb",
   "metadata": {},
   "outputs": [
    {
     "name": "stdout",
     "output_type": "stream",
     "text": [
      "Epoch 1/10\n",
      "32/32 [==============================] - 55s 2s/step - loss: 3.9226 - accuracy: 0.2040 - val_loss: 3.3775 - val_accuracy: 0.3070\n",
      "Epoch 2/10\n",
      "32/32 [==============================] - 59s 2s/step - loss: 2.9357 - accuracy: 0.3735 - val_loss: 2.9422 - val_accuracy: 0.3865\n",
      "Epoch 3/10\n",
      "32/32 [==============================] - 58s 2s/step - loss: 2.4368 - accuracy: 0.4800 - val_loss: 2.6350 - val_accuracy: 0.4400\n",
      "Epoch 4/10\n",
      "32/32 [==============================] - 58s 2s/step - loss: 2.0371 - accuracy: 0.5685 - val_loss: 2.4165 - val_accuracy: 0.4710\n",
      "Epoch 5/10\n",
      "32/32 [==============================] - 59s 2s/step - loss: 1.7500 - accuracy: 0.6155 - val_loss: 2.2494 - val_accuracy: 0.5025\n",
      "Epoch 6/10\n",
      "32/32 [==============================] - 62s 2s/step - loss: 1.5002 - accuracy: 0.6770 - val_loss: 2.1420 - val_accuracy: 0.5160\n",
      "Epoch 7/10\n",
      "32/32 [==============================] - 58s 2s/step - loss: 1.3221 - accuracy: 0.7115 - val_loss: 2.0624 - val_accuracy: 0.5350\n",
      "Epoch 8/10\n",
      "32/32 [==============================] - 61s 2s/step - loss: 1.1561 - accuracy: 0.7495 - val_loss: 2.0039 - val_accuracy: 0.5470\n",
      "Epoch 9/10\n",
      "32/32 [==============================] - 58s 2s/step - loss: 1.0269 - accuracy: 0.7835 - val_loss: 1.9567 - val_accuracy: 0.5585\n",
      "Epoch 10/10\n",
      "32/32 [==============================] - 54s 2s/step - loss: 0.9150 - accuracy: 0.8110 - val_loss: 1.9037 - val_accuracy: 0.5565\n"
     ]
    },
    {
     "data": {
      "text/plain": [
       "<keras.src.callbacks.History at 0x22d6e0a9b50>"
      ]
     },
     "execution_count": 16,
     "metadata": {},
     "output_type": "execute_result"
    }
   ],
   "source": [
    "model.fit(x_train,y_train,batch_size=64,validation_data=(x_test,y_test),epochs=10)\n"
   ]
  },
  {
   "cell_type": "code",
   "execution_count": 18,
   "id": "a1877aa4",
   "metadata": {},
   "outputs": [
    {
     "name": "stdout",
     "output_type": "stream",
     "text": [
      "63/63 [==============================] - 25s 397ms/step\n"
     ]
    }
   ],
   "source": [
    "import matplotlib.pyplot as plt\n",
    "predicted_values =model.predict(x_test)"
   ]
  },
  {
   "cell_type": "code",
   "execution_count": 20,
   "id": "bff316ba",
   "metadata": {},
   "outputs": [],
   "source": [
    "label=list(dataset_generator.class_indices.keys())"
   ]
  },
  {
   "cell_type": "code",
   "execution_count": 26,
   "id": "5db1ab63",
   "metadata": {},
   "outputs": [
    {
     "name": "stdout",
     "output_type": "stream",
     "text": [
      "Preditcted:  airplanes\n",
      "Actual:  airplanes\n"
     ]
    },
    {
     "data": {
      "image/png": "[encoded data removed]",
      "text/plain": [
       "<Figure size 432x288 with 1 Axes>"
      ]
     },
     "metadata": {
      "needs_background": "light"
     },
     "output_type": "display_data"
    }
   ],
   "source": [
    "n=1000\n",
    "plt.imshow(x_test[n])\n",
    "\n",
    "print(\"Preditcted: \",label[np.argmax(predicted_values[n])])\n",
    "print(\"Actual: \", label[np.argmax(y_test[n])])"
   ]
  }
 ],
 "metadata": {
  "kernelspec": {
   "display_name": "Python 3 (ipykernel)",
   "language": "python",
   "name": "python3"
  },
  "language_info": {
   "codemirror_mode": {
    "name": "ipython",
    "version": 3
   },
   "file_extension": ".py",
   "mimetype": "text/x-python",
   "name": "python",
   "nbconvert_exporter": "python",
   "pygments_lexer": "ipython3",
   "version": "3.9.12"
  }
 },
 "nbformat": 4,
 "nbformat_minor": 5
}
