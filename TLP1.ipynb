{
  "nbformat": 4,
  "nbformat_minor": 0,
  "metadata": {
    "colab": {
      "provenance": []
    },
    "kernelspec": {
      "name": "python3",
      "display_name": "Python 3"
    },
    "language_info": {
      "name": "python"
    }
  },
  "cells": [
    {
      "cell_type": "code",
      "execution_count": 2,
      "metadata": {
        "id": "FouaSfkI0rP2"
      },
      "outputs": [],
      "source": [
        "import tensorflow as tf\n",
        "from tensorflow.keras.datasets import cifar10\n",
        "from tensorflow.keras import models,layers,optimizers\n",
        "from tensorflow.keras.preprocessing.image import ImageDataGenerator\n",
        "from tensorflow.keras.applications import VGG16"
      ]
    },
    {
      "cell_type": "code",
      "source": [
        "(x_train,y_train),(x_test,y_test) = cifar10.load_data()\n",
        "x_train = x_train/255\n",
        "y_train = y_train/255"
      ],
      "metadata": {
        "colab": {
          "base_uri": "https://localhost:8080/"
        },
        "id": "_4nIf12k1Vqu",
        "outputId": "370083ed-b989-4740-c948-9c88a658c89d"
      },
      "execution_count": 3,
      "outputs": [
        {
          "output_type": "stream",
          "name": "stdout",
          "text": [
            "Downloading data from https://www.cs.toronto.edu/~kriz/cifar-10-python.tar.gz\n",
            "170498071/170498071 [==============================] - 10s 0us/step\n"
          ]
        }
      ]
    },
    {
      "cell_type": "code",
      "source": [
        "base_model = VGG16(weights = \"imagenet\",include_top=False,input_shape=(32,32,3))\n",
        "\n",
        "for layer in base_model.layers:\n",
        "  layer.trainable = False"
      ],
      "metadata": {
        "colab": {
          "base_uri": "https://localhost:8080/"
        },
        "id": "UD4-Xu7I1xa9",
        "outputId": "3bfed6c1-90b5-4ada-bdf4-6fe76121a5aa"
      },
      "execution_count": 4,
      "outputs": [
        {
          "output_type": "stream",
          "name": "stdout",
          "text": [
            "Downloading data from https://storage.googleapis.com/tensorflow/keras-applications/vgg16/vgg16_weights_tf_dim_ordering_tf_kernels_notop.h5\n",
            "58889256/58889256 [==============================] - 0s 0us/step\n"
          ]
        }
      ]
    },
    {
      "cell_type": "code",
      "source": [
        "model = models.Sequential()\n",
        "model.add(base_model)\n",
        "model.add(layers.Flatten())\n",
        "model.add(layers.Dense(256,activation=\"relu\"))\n",
        "model.add(layers.Dropout(0.3))\n",
        "model.add(layers.Dense(10,activation=\"softmax\"))\n",
        "\n",
        "model.compile(optimizer = \"adam\",metrics=[\"accuracy\"],loss=\"sparse_categorical_crossentropy\")"
      ],
      "metadata": {
        "id": "hAqzBY_Q2WRi"
      },
      "execution_count": 6,
      "outputs": []
    },
    {
      "cell_type": "code",
      "source": [
        "img_gen = ImageDataGenerator(\n",
        "    rotation_range = 20,\n",
        "    zoom_range = 0.2,\n",
        "    shear_range = 0.2,\n",
        "    width_shift_range = 0.2,\n",
        "    height_shift_range = 0.2,\n",
        "    horizontal_flip = True,\n",
        "    fill_mode = \"nearest\"\n",
        ")\n",
        "\n",
        "img_gen.fit(x_train)\n",
        "\n",
        "model.fit(img_gen.flow(x_train,y_train,batch_size=500),epochs=6,batch_size=800,validation_data=(x_test,y_test))"
      ],
      "metadata": {
        "colab": {
          "base_uri": "https://localhost:8080/"
        },
        "id": "sEhfrcZ73CGF",
        "outputId": "987c1b11-169c-42ca-d53a-f2591776f3cc"
      },
      "execution_count": null,
      "outputs": [
        {
          "output_type": "stream",
          "name": "stdout",
          "text": [
            "Epoch 1/6\n",
            "100/100 [==============================] - 699s 7s/step - loss: 0.0769 - accuracy: 0.9803 - val_loss: 362.5127 - val_accuracy: 1.0000\n",
            "Epoch 2/6\n",
            "100/100 [==============================] - 696s 7s/step - loss: 4.3467e-06 - accuracy: 1.0000 - val_loss: 384.2137 - val_accuracy: 1.0000\n",
            "Epoch 3/6\n",
            "100/100 [==============================] - 706s 7s/step - loss: 2.5512e-06 - accuracy: 1.0000 - val_loss: 399.4493 - val_accuracy: 1.0000\n",
            "Epoch 4/6\n",
            " 60/100 [=================>............] - ETA: 3:46 - loss: 2.1255e-06 - accuracy: 1.0000"
          ]
        }
      ]
    },
    {
      "cell_type": "code",
      "source": [],
      "metadata": {
        "id": "E_tAAKHW6SZr"
      },
      "execution_count": null,
      "outputs": []
    }
  ]
}