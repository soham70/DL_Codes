{
 "cells": [
  {
   "cell_type": "code",
   "execution_count": 2,
   "id": "da759cb2",
   "metadata": {},
   "outputs": [],
   "source": [
    "import tensorflow as tf\n",
    "from tensorflow import keras\n",
    "from tensorflow.keras import layers,models\n",
    "import matplotlib.pyplot as plt\n",
    "import numpy as np\n",
    "import pandas as pd"
   ]
  },
  {
   "cell_type": "code",
   "execution_count": 20,
   "id": "5f585615",
   "metadata": {},
   "outputs": [],
   "source": [
    "# df=pd.read_csv('./MNIST(Ass2&3)/mnist_test.csv')\n",
    "# df.head()\n",
    "\n",
    "train_data=pd.read_csv(\"./MNIST(Ass2&3)/mnist_train.csv\")\n",
    "test_data=pd.read_csv(\"./MNIST(Ass2&3)/mnist_test.csv\")\n",
    "\n",
    "train_images=train_data.drop('label',axis=1).values\n",
    "train_labels=train_data['label'].values\n",
    "\n",
    "test_images=test_data.drop('label',axis=1).values\n",
    "test_labels=test_data['label'].values\n",
    "\n",
    "train_images=train_images.reshape((60000,28,28,1)).astype('float32')/255\n",
    "test_images=test_images.reshape((10000,28,28,1)).astype('float32')/255\n",
    "\n",
    "train_labels=tf.keras.utils.to_categorical(train_labels)\n",
    "test_labels=tf.keras.utils.to_categorical(test_labels)\n"
   ]
  },
  {
   "cell_type": "code",
   "execution_count": null,
   "id": "33f12eb9",
   "metadata": {},
   "outputs": [],
   "source": []
  },
  {
   "cell_type": "code",
   "execution_count": 15,
   "id": "51568503",
   "metadata": {},
   "outputs": [],
   "source": [
    "model=models.Sequential(\n",
    "    [\n",
    "        layers.Flatten(input_shape=(28,28)),\n",
    "        layers.Dense(128,activation='relu'),\n",
    "        layers.Dropout(0.2),\n",
    "        layers.Dense(128,activation='softmax')\n",
    "    ]\n",
    ")"
   ]
  },
  {
   "cell_type": "code",
   "execution_count": 16,
   "id": "61149918",
   "metadata": {},
   "outputs": [],
   "source": [
    "model.compile(optimizer='sgd',\n",
    "             loss='sparse_categorical_crossentropy',\n",
    "              metrics=['accuracy']\n",
    "             )"
   ]
  },
  {
   "cell_type": "code",
   "execution_count": 24,
   "id": "b3ffc56c",
   "metadata": {},
   "outputs": [
    {
     "name": "stdout",
     "output_type": "stream",
     "text": [
      "Epoch 1/11\n",
      "938/938 [==============================] - 2s 2ms/step - loss: 0.8695 - accuracy: 0.7918 - val_loss: 0.4575 - val_accuracy: 0.8867\n",
      "Epoch 2/11\n",
      "938/938 [==============================] - 2s 2ms/step - loss: 0.4136 - accuracy: 0.8907 - val_loss: 0.3551 - val_accuracy: 0.9047\n",
      "Epoch 3/11\n",
      "938/938 [==============================] - 2s 2ms/step - loss: 0.3493 - accuracy: 0.9043 - val_loss: 0.3148 - val_accuracy: 0.9150\n",
      "Epoch 4/11\n",
      "938/938 [==============================] - 2s 2ms/step - loss: 0.3161 - accuracy: 0.9118 - val_loss: 0.2918 - val_accuracy: 0.9204\n",
      "Epoch 5/11\n",
      "938/938 [==============================] - 2s 2ms/step - loss: 0.2930 - accuracy: 0.9182 - val_loss: 0.2730 - val_accuracy: 0.9240\n",
      "Epoch 6/11\n",
      "938/938 [==============================] - 2s 2ms/step - loss: 0.2747 - accuracy: 0.9237 - val_loss: 0.2585 - val_accuracy: 0.9273\n",
      "Epoch 7/11\n",
      "938/938 [==============================] - 2s 2ms/step - loss: 0.2597 - accuracy: 0.9287 - val_loss: 0.2453 - val_accuracy: 0.9313\n",
      "Epoch 8/11\n",
      "938/938 [==============================] - 2s 2ms/step - loss: 0.2467 - accuracy: 0.9320 - val_loss: 0.2338 - val_accuracy: 0.9335\n",
      "Epoch 9/11\n",
      "938/938 [==============================] - 2s 2ms/step - loss: 0.2352 - accuracy: 0.9349 - val_loss: 0.2244 - val_accuracy: 0.9355\n",
      "Epoch 10/11\n",
      "938/938 [==============================] - 2s 2ms/step - loss: 0.2249 - accuracy: 0.9375 - val_loss: 0.2144 - val_accuracy: 0.9399\n",
      "Epoch 11/11\n",
      "938/938 [==============================] - 2s 2ms/step - loss: 0.2155 - accuracy: 0.9405 - val_loss: 0.2066 - val_accuracy: 0.9417\n",
      "313/313 [==============================] - 0s 1ms/step - loss: 0.2066 - accuracy: 0.9417\n",
      "Test Accuracy: 0.9416999816894531\n"
     ]
    },
    {
     "data": {
      "image/png": "[encoded data removed]",
      "text/plain": [
       "<Figure size 432x288 with 1 Axes>"
      ]
     },
     "metadata": {
      "needs_background": "light"
     },
     "output_type": "display_data"
    },
    {
     "data": {
      "image/png": "[encoded data removed]",
      "text/plain": [
       "<Figure size 432x288 with 1 Axes>"
      ]
     },
     "metadata": {
      "needs_background": "light"
     },
     "output_type": "display_data"
    }
   ],
   "source": [
    "train_images = train_data.drop('label', axis=1).values\n",
    "train_labels = train_data['label'].values\n",
    "\n",
    "test_images = test_data.drop('label', axis=1).values\n",
    "test_labels = test_data['label'].values\n",
    "\n",
    "train_images = train_images.reshape((60000, 28, 28, 1)).astype('float32') / 255\n",
    "test_images = test_images.reshape((10000, 28, 28, 1)).astype('float32') / 255\n",
    "\n",
    "train_labels = tf.keras.utils.to_categorical(train_labels)\n",
    "test_labels = tf.keras.utils.to_categorical(test_labels)\n",
    "\n",
    "model = models.Sequential()\n",
    "model.add(layers.Flatten(input_shape=(28, 28, 1)))\n",
    "model.add(layers.Dense(128, activation='relu'))\n",
    "model.add(layers.Dense(10, activation='softmax'))\n",
    "\n",
    "model.compile(optimizer='sgd',\n",
    "              loss='categorical_crossentropy',\n",
    "              metrics=['accuracy'])\n",
    "\n",
    "history = model.fit(train_images, train_labels, epochs=11, batch_size=64, validation_data=(test_images, test_labels))\n",
    "\n",
    "# e. Evaluate the network\n",
    "test_loss, test_acc = model.evaluate(test_images, test_labels)\n",
    "print(f'Test Accuracy: {test_acc}')\n",
    "\n",
    "# f. Plot the training loss and accuracy\n",
    "train_loss = history.history['loss']\n",
    "train_acc = history.history['accuracy']\n",
    "\n",
    "val_loss = history.history['val_loss']\n",
    "val_acc = history.history['val_accuracy']\n",
    "\n",
    "epochs = range(1, len(train_loss) + 1)\n",
    "\n",
    "plt.plot(epochs, train_loss, 'bo', label='Training loss')\n",
    "plt.plot(epochs, val_loss, 'b', label='Validation loss')\n",
    "plt.title('Training and Validation Loss')\n",
    "plt.xlabel('Epochs')\n",
    "plt.ylabel('Loss')\n",
    "plt.legend()\n",
    "plt.show()\n",
    "\n",
    "plt.plot(epochs, train_acc, 'bo', label='Training accuracy')\n",
    "plt.plot(epochs, val_acc, 'b', label='Validation accuracy')\n",
    "plt.title('Training and Validation Accuracy')\n",
    "plt.xlabel('Epochs')\n",
    "plt.ylabel('Accuracy')\n",
    "plt.legend()\n",
    "plt.show()\n"
   ]
  },
  {
   "cell_type": "code",
   "execution_count": 21,
   "id": "e9d3960c",
   "metadata": {},
   "outputs": [
    {
     "ename": "ValueError",
     "evalue": "in user code:\n\n    File \"C:\\Users\\Dell\\anaconda3\\lib\\site-packages\\keras\\src\\engine\\training.py\", line 2042, in test_function  *\n        return step_function(self, iterator)\n    File \"C:\\Users\\Dell\\anaconda3\\lib\\site-packages\\keras\\src\\engine\\training.py\", line 2025, in step_function  **\n        outputs = model.distribute_strategy.run(run_step, args=(data,))\n    File \"C:\\Users\\Dell\\anaconda3\\lib\\site-packages\\keras\\src\\engine\\training.py\", line 2013, in run_step  **\n        outputs = model.test_step(data)\n    File \"C:\\Users\\Dell\\anaconda3\\lib\\site-packages\\keras\\src\\engine\\training.py\", line 1896, in test_step\n        return self.compute_metrics(x, y, y_pred, sample_weight)\n    File \"C:\\Users\\Dell\\anaconda3\\lib\\site-packages\\keras\\src\\engine\\training.py\", line 1225, in compute_metrics\n        self.compiled_metrics.update_state(y, y_pred, sample_weight)\n    File \"C:\\Users\\Dell\\anaconda3\\lib\\site-packages\\keras\\src\\engine\\compile_utils.py\", line 620, in update_state\n        metric_obj.update_state(y_t, y_p, sample_weight=mask)\n    File \"C:\\Users\\Dell\\anaconda3\\lib\\site-packages\\keras\\src\\utils\\metrics_utils.py\", line 77, in decorated\n        result = update_state_fn(*args, **kwargs)\n    File \"C:\\Users\\Dell\\anaconda3\\lib\\site-packages\\keras\\src\\metrics\\base_metric.py\", line 140, in update_state_fn\n        return ag_update_state(*args, **kwargs)\n    File \"C:\\Users\\Dell\\anaconda3\\lib\\site-packages\\keras\\src\\metrics\\base_metric.py\", line 723, in update_state  **\n        matches = ag_fn(y_true, y_pred, **self._fn_kwargs)\n    File \"C:\\Users\\Dell\\anaconda3\\lib\\site-packages\\keras\\src\\metrics\\accuracy_metrics.py\", line 459, in sparse_categorical_accuracy\n        matches = metrics_utils.sparse_categorical_matches(y_true, y_pred)\n    File \"C:\\Users\\Dell\\anaconda3\\lib\\site-packages\\keras\\src\\utils\\metrics_utils.py\", line 961, in sparse_categorical_matches\n        y_true = tf.squeeze(y_true, [-1])\n\n    ValueError: Can not squeeze dim[1], expected a dimension of 1, got 10 for '{{node Squeeze}} = Squeeze[T=DT_FLOAT, squeeze_dims=[-1]](IteratorGetNext:1)' with input shapes: [?,10].\n",
     "output_type": "error",
     "traceback": [
      "\u001b[1;31m---------------------------------------------------------------------------\u001b[0m",
      "\u001b[1;31mValueError\u001b[0m                                Traceback (most recent call last)",
      "Input \u001b[1;32mIn [21]\u001b[0m, in \u001b[0;36m<cell line: 1>\u001b[1;34m()\u001b[0m\n\u001b[1;32m----> 1\u001b[0m test_loss,test_acc\u001b[38;5;241m=\u001b[39m\u001b[43mmodel\u001b[49m\u001b[38;5;241;43m.\u001b[39;49m\u001b[43mevaluate\u001b[49m\u001b[43m(\u001b[49m\u001b[43mtest_images\u001b[49m\u001b[43m,\u001b[49m\u001b[43mtest_labels\u001b[49m\u001b[43m)\u001b[49m\n\u001b[0;32m      2\u001b[0m \u001b[38;5;28mprint\u001b[39m(\u001b[38;5;124m'\u001b[39m\u001b[38;5;130;01m\\n\u001b[39;00m\u001b[38;5;124mTest Accuracy: \u001b[39m\u001b[38;5;132;01m{test_acc}\u001b[39;00m\u001b[38;5;124m'\u001b[39m)\n",
      "File \u001b[1;32m~\\anaconda3\\lib\\site-packages\\keras\\src\\utils\\traceback_utils.py:70\u001b[0m, in \u001b[0;36mfilter_traceback.<locals>.error_handler\u001b[1;34m(*args, **kwargs)\u001b[0m\n\u001b[0;32m     67\u001b[0m     filtered_tb \u001b[38;5;241m=\u001b[39m _process_traceback_frames(e\u001b[38;5;241m.\u001b[39m__traceback__)\n\u001b[0;32m     68\u001b[0m     \u001b[38;5;66;03m# To get the full stack trace, call:\u001b[39;00m\n\u001b[0;32m     69\u001b[0m     \u001b[38;5;66;03m# `tf.debugging.disable_traceback_filtering()`\u001b[39;00m\n\u001b[1;32m---> 70\u001b[0m     \u001b[38;5;28;01mraise\u001b[39;00m e\u001b[38;5;241m.\u001b[39mwith_traceback(filtered_tb) \u001b[38;5;28;01mfrom\u001b[39;00m \u001b[38;5;28mNone\u001b[39m\n\u001b[0;32m     71\u001b[0m \u001b[38;5;28;01mfinally\u001b[39;00m:\n\u001b[0;32m     72\u001b[0m     \u001b[38;5;28;01mdel\u001b[39;00m filtered_tb\n",
      "File \u001b[1;32m~\\AppData\\Local\\Temp\\__autograph_generated_filekhc6hydy.py:15\u001b[0m, in \u001b[0;36mouter_factory.<locals>.inner_factory.<locals>.tf__test_function\u001b[1;34m(iterator)\u001b[0m\n\u001b[0;32m     13\u001b[0m \u001b[38;5;28;01mtry\u001b[39;00m:\n\u001b[0;32m     14\u001b[0m     do_return \u001b[38;5;241m=\u001b[39m \u001b[38;5;28;01mTrue\u001b[39;00m\n\u001b[1;32m---> 15\u001b[0m     retval_ \u001b[38;5;241m=\u001b[39m ag__\u001b[38;5;241m.\u001b[39mconverted_call(ag__\u001b[38;5;241m.\u001b[39mld(step_function), (ag__\u001b[38;5;241m.\u001b[39mld(\u001b[38;5;28mself\u001b[39m), ag__\u001b[38;5;241m.\u001b[39mld(iterator)), \u001b[38;5;28;01mNone\u001b[39;00m, fscope)\n\u001b[0;32m     16\u001b[0m \u001b[38;5;28;01mexcept\u001b[39;00m:\n\u001b[0;32m     17\u001b[0m     do_return \u001b[38;5;241m=\u001b[39m \u001b[38;5;28;01mFalse\u001b[39;00m\n",
      "\u001b[1;31mValueError\u001b[0m: in user code:\n\n    File \"C:\\Users\\Dell\\anaconda3\\lib\\site-packages\\keras\\src\\engine\\training.py\", line 2042, in test_function  *\n        return step_function(self, iterator)\n    File \"C:\\Users\\Dell\\anaconda3\\lib\\site-packages\\keras\\src\\engine\\training.py\", line 2025, in step_function  **\n        outputs = model.distribute_strategy.run(run_step, args=(data,))\n    File \"C:\\Users\\Dell\\anaconda3\\lib\\site-packages\\keras\\src\\engine\\training.py\", line 2013, in run_step  **\n        outputs = model.test_step(data)\n    File \"C:\\Users\\Dell\\anaconda3\\lib\\site-packages\\keras\\src\\engine\\training.py\", line 1896, in test_step\n        return self.compute_metrics(x, y, y_pred, sample_weight)\n    File \"C:\\Users\\Dell\\anaconda3\\lib\\site-packages\\keras\\src\\engine\\training.py\", line 1225, in compute_metrics\n        self.compiled_metrics.update_state(y, y_pred, sample_weight)\n    File \"C:\\Users\\Dell\\anaconda3\\lib\\site-packages\\keras\\src\\engine\\compile_utils.py\", line 620, in update_state\n        metric_obj.update_state(y_t, y_p, sample_weight=mask)\n    File \"C:\\Users\\Dell\\anaconda3\\lib\\site-packages\\keras\\src\\utils\\metrics_utils.py\", line 77, in decorated\n        result = update_state_fn(*args, **kwargs)\n    File \"C:\\Users\\Dell\\anaconda3\\lib\\site-packages\\keras\\src\\metrics\\base_metric.py\", line 140, in update_state_fn\n        return ag_update_state(*args, **kwargs)\n    File \"C:\\Users\\Dell\\anaconda3\\lib\\site-packages\\keras\\src\\metrics\\base_metric.py\", line 723, in update_state  **\n        matches = ag_fn(y_true, y_pred, **self._fn_kwargs)\n    File \"C:\\Users\\Dell\\anaconda3\\lib\\site-packages\\keras\\src\\metrics\\accuracy_metrics.py\", line 459, in sparse_categorical_accuracy\n        matches = metrics_utils.sparse_categorical_matches(y_true, y_pred)\n    File \"C:\\Users\\Dell\\anaconda3\\lib\\site-packages\\keras\\src\\utils\\metrics_utils.py\", line 961, in sparse_categorical_matches\n        y_true = tf.squeeze(y_true, [-1])\n\n    ValueError: Can not squeeze dim[1], expected a dimension of 1, got 10 for '{{node Squeeze}} = Squeeze[T=DT_FLOAT, squeeze_dims=[-1]](IteratorGetNext:1)' with input shapes: [?,10].\n"
     ]
    }
   ],
   "source": [
    "test_loss,test_acc=model.evaluate(test_images,test_labels)\n",
    "print('\\nTest Accuracy: {test_acc}')\n"
   ]
  }
 ],
 "metadata": {
  "kernelspec": {
   "display_name": "Python 3 (ipykernel)",
   "language": "python",
   "name": "python3"
  },
  "language_info": {
   "codemirror_mode": {
    "name": "ipython",
    "version": 3
   },
   "file_extension": ".py",
   "mimetype": "text/x-python",
   "name": "python",
   "nbconvert_exporter": "python",
   "pygments_lexer": "ipython3",
   "version": "3.9.12"
  }
 },
 "nbformat": 4,
 "nbformat_minor": 5
}
